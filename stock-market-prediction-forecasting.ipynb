{
 "cells": [
  {
   "cell_type": "markdown",
   "id": "56d91edb",
   "metadata": {
    "papermill": {
     "duration": 0.012538,
     "end_time": "2024-06-16T08:44:01.924711",
     "exception": false,
     "start_time": "2024-06-16T08:44:01.912173",
     "status": "completed"
    },
    "tags": []
   },
   "source": [
    "# 📊 Stock Market Price Prediction and Forecastingnusing LSTM📈\n"
   ]
  },
  {
   "cell_type": "markdown",
   "id": "458a87dd",
   "metadata": {
    "papermill": {
     "duration": 0.011714,
     "end_time": "2024-06-16T08:44:01.948847",
     "exception": false,
     "start_time": "2024-06-16T08:44:01.937133",
     "status": "completed"
    },
    "tags": []
   },
   "source": [
    "## *Overview*"
   ]
  },
  {
   "cell_type": "markdown",
   "id": "c9717d6a",
   "metadata": {
    "papermill": {
     "duration": 0.012002,
     "end_time": "2024-06-16T08:44:01.973642",
     "exception": false,
     "start_time": "2024-06-16T08:44:01.961640",
     "status": "completed"
    },
    "tags": []
   },
   "source": [
    "**Introduction:**\n",
    "\n",
    "Stock market prediction and forecasting using time series data have become an increasingly popular area of research and application, driven by its significance in investment decisions and risk management. The dynamic nature of stock prices often leads to complex and nonlinear behavior, making traditional methods less effective in capturing these patterns. Machine learning techniques, particularly Long Short-Term Memory (LSTM) models, have emerged as powerful tools for predicting future stock prices and trends.\n",
    "\n",
    "\n",
    "\n",
    "**Objectives:**\n",
    "   * Data Acquisition and Preparation: Collect historical stock price data, typically from reliable financial data sources, to serve as input for the     model.\n",
    "   * Data Analysis and Exploration: Conduct exploratory data analysis (EDA) to understand the stock price behavior, trends, and seasonal patterns.\n",
    "   * Model Design: Build an LSTM model using the collected data, incorporating preprocessing steps to normalize or standardize data.\n",
    "   * Model Training and Validation: Train the model on the training dataset and validate its accuracy using evaluation metrics.\n",
    "   * Forecasting: Use the trained LSTM model to forecast future stock prices and compare these predictions with actual stock prices."
   ]
  },
  {
   "cell_type": "code",
   "execution_count": 1,
   "id": "9bba61c4",
   "metadata": {
    "_cell_guid": "b1076dfc-b9ad-4769-8c92-a6c4dae69d19",
    "_uuid": "8f2839f25d086af736a60e9eeb907d3b93b6e0e5",
    "execution": {
     "iopub.execute_input": "2024-06-16T08:44:02.000649Z",
     "iopub.status.busy": "2024-06-16T08:44:02.000007Z",
     "iopub.status.idle": "2024-06-16T08:44:03.088542Z",
     "shell.execute_reply": "2024-06-16T08:44:03.087275Z"
    },
    "papermill": {
     "duration": 1.105665,
     "end_time": "2024-06-16T08:44:03.091612",
     "exception": false,
     "start_time": "2024-06-16T08:44:01.985947",
     "status": "completed"
    },
    "tags": []
   },
   "outputs": [],
   "source": [
    "# This Python 3 environment comes with many helpful analytics libraries installed\n",
    "# It is defined by the kaggle/python Docker image: https://github.com/kaggle/docker-python\n",
    "# For example, here's several helpful packages to load\n",
    "\n",
    "import numpy as np # linear algebra\n",
    "import pandas as pd # data processing, CSV file I/O (e.g. pd.read_csv)\n",
    "\n",
    "# Input data files are available in the read-only \"../input/\" directory\n",
    "# For example, running this (by clicking run or pressing Shift+Enter) will list all files under the input directory\n",
    "\n",
    "import os\n",
    "#for dirname, _, filenames in os.walk('/kaggle/input'):\n",
    " #   for filename in filenames:\n",
    "  #      print(os.path.join(dirname, filename))\n",
    "\n",
    "# You can write up to 20GB to the current directory (/kaggle/working/) that gets preserved as output when you create a version using \"Save & Run All\" \n",
    "# You can also write temporary files to /kaggle/temp/, but they won't be saved outside of the current session"
   ]
  },
  {
   "cell_type": "markdown",
   "id": "01bd58f0",
   "metadata": {
    "papermill": {
     "duration": 0.015291,
     "end_time": "2024-06-16T08:44:03.121907",
     "exception": false,
     "start_time": "2024-06-16T08:44:03.106616",
     "status": "completed"
    },
    "tags": []
   },
   "source": [
    "## Importing Libraries:"
   ]
  },
  {
   "cell_type": "code",
   "execution_count": 2,
   "id": "cdeec274",
   "metadata": {
    "execution": {
     "iopub.execute_input": "2024-06-16T08:44:03.156110Z",
     "iopub.status.busy": "2024-06-16T08:44:03.155460Z",
     "iopub.status.idle": "2024-06-16T08:44:16.522570Z",
     "shell.execute_reply": "2024-06-16T08:44:16.521202Z"
    },
    "papermill": {
     "duration": 13.384432,
     "end_time": "2024-06-16T08:44:16.525487",
     "exception": false,
     "start_time": "2024-06-16T08:44:03.141055",
     "status": "completed"
    },
    "tags": []
   },
   "outputs": [],
   "source": [
    "# For time stamps\n",
    "from datetime import datetime\n",
    "import numpy as np\n",
    "import pandas as pd\n",
    "import matplotlib.pyplot as plt\n",
    "import seaborn as sns\n",
    "import warnings\n",
    "warnings.filterwarnings('ignore')\n",
    "from sklearn.metrics import accuracy_score\n",
    "import tensorflow as tf\n",
    "from sklearn.preprocessing import MinMaxScaler\n",
    "from sklearn.metrics import mean_squared_error\n",
    "import math"
   ]
  },
  {
   "cell_type": "markdown",
   "id": "68f8d898",
   "metadata": {
    "papermill": {
     "duration": 0.011714,
     "end_time": "2024-06-16T08:44:16.549631",
     "exception": false,
     "start_time": "2024-06-16T08:44:16.537917",
     "status": "completed"
    },
    "tags": []
   },
   "source": []
  },
  {
   "cell_type": "markdown",
   "id": "39d175b1",
   "metadata": {
    "papermill": {
     "duration": 0.012823,
     "end_time": "2024-06-16T08:44:16.575406",
     "exception": false,
     "start_time": "2024-06-16T08:44:16.562583",
     "status": "completed"
    },
    "tags": []
   },
   "source": [
    "### *Importing Data*"
   ]
  },
  {
   "cell_type": "code",
   "execution_count": 3,
   "id": "404a5e9b",
   "metadata": {
    "execution": {
     "iopub.execute_input": "2024-06-16T08:44:16.606096Z",
     "iopub.status.busy": "2024-06-16T08:44:16.605079Z",
     "iopub.status.idle": "2024-06-16T08:44:16.660609Z",
     "shell.execute_reply": "2024-06-16T08:44:16.659108Z"
    },
    "papermill": {
     "duration": 0.072693,
     "end_time": "2024-06-16T08:44:16.663371",
     "exception": false,
     "start_time": "2024-06-16T08:44:16.590678",
     "status": "completed"
    },
    "tags": []
   },
   "outputs": [
    {
     "data": {
      "text/html": [
       "<div>\n",
       "<style scoped>\n",
       "    .dataframe tbody tr th:only-of-type {\n",
       "        vertical-align: middle;\n",
       "    }\n",
       "\n",
       "    .dataframe tbody tr th {\n",
       "        vertical-align: top;\n",
       "    }\n",
       "\n",
       "    .dataframe thead th {\n",
       "        text-align: right;\n",
       "    }\n",
       "</style>\n",
       "<table border=\"1\" class=\"dataframe\">\n",
       "  <thead>\n",
       "    <tr style=\"text-align: right;\">\n",
       "      <th></th>\n",
       "      <th>Date</th>\n",
       "      <th>Open</th>\n",
       "      <th>High</th>\n",
       "      <th>Low</th>\n",
       "      <th>Last</th>\n",
       "      <th>Close</th>\n",
       "      <th>Total Trade Quantity</th>\n",
       "      <th>Turnover (Lacs)</th>\n",
       "    </tr>\n",
       "  </thead>\n",
       "  <tbody>\n",
       "    <tr>\n",
       "      <th>0</th>\n",
       "      <td>2018-09-28</td>\n",
       "      <td>234.05</td>\n",
       "      <td>235.95</td>\n",
       "      <td>230.20</td>\n",
       "      <td>233.50</td>\n",
       "      <td>233.75</td>\n",
       "      <td>3069914</td>\n",
       "      <td>7162.35</td>\n",
       "    </tr>\n",
       "    <tr>\n",
       "      <th>1</th>\n",
       "      <td>2018-09-27</td>\n",
       "      <td>234.55</td>\n",
       "      <td>236.80</td>\n",
       "      <td>231.10</td>\n",
       "      <td>233.80</td>\n",
       "      <td>233.25</td>\n",
       "      <td>5082859</td>\n",
       "      <td>11859.95</td>\n",
       "    </tr>\n",
       "    <tr>\n",
       "      <th>2</th>\n",
       "      <td>2018-09-26</td>\n",
       "      <td>240.00</td>\n",
       "      <td>240.00</td>\n",
       "      <td>232.50</td>\n",
       "      <td>235.00</td>\n",
       "      <td>234.25</td>\n",
       "      <td>2240909</td>\n",
       "      <td>5248.60</td>\n",
       "    </tr>\n",
       "    <tr>\n",
       "      <th>3</th>\n",
       "      <td>2018-09-25</td>\n",
       "      <td>233.30</td>\n",
       "      <td>236.75</td>\n",
       "      <td>232.00</td>\n",
       "      <td>236.25</td>\n",
       "      <td>236.10</td>\n",
       "      <td>2349368</td>\n",
       "      <td>5503.90</td>\n",
       "    </tr>\n",
       "    <tr>\n",
       "      <th>4</th>\n",
       "      <td>2018-09-24</td>\n",
       "      <td>233.55</td>\n",
       "      <td>239.20</td>\n",
       "      <td>230.75</td>\n",
       "      <td>234.00</td>\n",
       "      <td>233.30</td>\n",
       "      <td>3423509</td>\n",
       "      <td>7999.55</td>\n",
       "    </tr>\n",
       "  </tbody>\n",
       "</table>\n",
       "</div>"
      ],
      "text/plain": [
       "         Date    Open    High     Low    Last   Close  Total Trade Quantity  \\\n",
       "0  2018-09-28  234.05  235.95  230.20  233.50  233.75               3069914   \n",
       "1  2018-09-27  234.55  236.80  231.10  233.80  233.25               5082859   \n",
       "2  2018-09-26  240.00  240.00  232.50  235.00  234.25               2240909   \n",
       "3  2018-09-25  233.30  236.75  232.00  236.25  236.10               2349368   \n",
       "4  2018-09-24  233.55  239.20  230.75  234.00  233.30               3423509   \n",
       "\n",
       "   Turnover (Lacs)  \n",
       "0          7162.35  \n",
       "1         11859.95  \n",
       "2          5248.60  \n",
       "3          5503.90  \n",
       "4          7999.55  "
      ]
     },
     "execution_count": 3,
     "metadata": {},
     "output_type": "execute_result"
    }
   ],
   "source": [
    "data=pd.read_csv('/kaggle/input/nse-tataglobal/NSE-TATAGLOBAL.csv')\n",
    "data.head()"
   ]
  },
  {
   "cell_type": "code",
   "execution_count": 4,
   "id": "738b5af9",
   "metadata": {
    "execution": {
     "iopub.execute_input": "2024-06-16T08:44:16.692470Z",
     "iopub.status.busy": "2024-06-16T08:44:16.691999Z",
     "iopub.status.idle": "2024-06-16T08:44:16.706498Z",
     "shell.execute_reply": "2024-06-16T08:44:16.705033Z"
    },
    "papermill": {
     "duration": 0.032438,
     "end_time": "2024-06-16T08:44:16.709404",
     "exception": false,
     "start_time": "2024-06-16T08:44:16.676966",
     "status": "completed"
    },
    "tags": []
   },
   "outputs": [],
   "source": [
    "# Converting 'Date' column to pandas date time series\n",
    "data.Date=pd.to_datetime(data.Date)"
   ]
  },
  {
   "cell_type": "code",
   "execution_count": 5,
   "id": "3d076248",
   "metadata": {
    "execution": {
     "iopub.execute_input": "2024-06-16T08:44:16.737665Z",
     "iopub.status.busy": "2024-06-16T08:44:16.737244Z",
     "iopub.status.idle": "2024-06-16T08:44:16.748406Z",
     "shell.execute_reply": "2024-06-16T08:44:16.747227Z"
    },
    "papermill": {
     "duration": 0.028394,
     "end_time": "2024-06-16T08:44:16.751063",
     "exception": false,
     "start_time": "2024-06-16T08:44:16.722669",
     "status": "completed"
    },
    "tags": []
   },
   "outputs": [],
   "source": [
    "# Setting Date column as the index\n",
    "data.set_index('Date',inplace=True)"
   ]
  },
  {
   "cell_type": "code",
   "execution_count": 6,
   "id": "5b9cb65d",
   "metadata": {
    "execution": {
     "iopub.execute_input": "2024-06-16T08:44:16.780582Z",
     "iopub.status.busy": "2024-06-16T08:44:16.780137Z",
     "iopub.status.idle": "2024-06-16T08:44:16.812390Z",
     "shell.execute_reply": "2024-06-16T08:44:16.810912Z"
    },
    "papermill": {
     "duration": 0.050924,
     "end_time": "2024-06-16T08:44:16.815753",
     "exception": false,
     "start_time": "2024-06-16T08:44:16.764829",
     "status": "completed"
    },
    "tags": []
   },
   "outputs": [
    {
     "name": "stdout",
     "output_type": "stream",
     "text": [
      "<class 'pandas.core.frame.DataFrame'>\n",
      "DatetimeIndex: 2035 entries, 2018-09-28 to 2010-07-21\n",
      "Data columns (total 7 columns):\n",
      " #   Column                Non-Null Count  Dtype  \n",
      "---  ------                --------------  -----  \n",
      " 0   Open                  2035 non-null   float64\n",
      " 1   High                  2035 non-null   float64\n",
      " 2   Low                   2035 non-null   float64\n",
      " 3   Last                  2035 non-null   float64\n",
      " 4   Close                 2035 non-null   float64\n",
      " 5   Total Trade Quantity  2035 non-null   int64  \n",
      " 6   Turnover (Lacs)       2035 non-null   float64\n",
      "dtypes: float64(6), int64(1)\n",
      "memory usage: 127.2 KB\n"
     ]
    }
   ],
   "source": [
    "data.info()"
   ]
  },
  {
   "cell_type": "code",
   "execution_count": 7,
   "id": "087b7f34",
   "metadata": {
    "execution": {
     "iopub.execute_input": "2024-06-16T08:44:16.843609Z",
     "iopub.status.busy": "2024-06-16T08:44:16.843155Z",
     "iopub.status.idle": "2024-06-16T08:44:16.854829Z",
     "shell.execute_reply": "2024-06-16T08:44:16.853103Z"
    },
    "papermill": {
     "duration": 0.029244,
     "end_time": "2024-06-16T08:44:16.857974",
     "exception": false,
     "start_time": "2024-06-16T08:44:16.828730",
     "status": "completed"
    },
    "tags": []
   },
   "outputs": [
    {
     "data": {
      "text/plain": [
       "Open                    0\n",
       "High                    0\n",
       "Low                     0\n",
       "Last                    0\n",
       "Close                   0\n",
       "Total Trade Quantity    0\n",
       "Turnover (Lacs)         0\n",
       "dtype: int64"
      ]
     },
     "execution_count": 7,
     "metadata": {},
     "output_type": "execute_result"
    }
   ],
   "source": [
    "# Checking for Null Values in data frame\n",
    "data.isnull().sum()"
   ]
  },
  {
   "cell_type": "code",
   "execution_count": 8,
   "id": "fa4160b6",
   "metadata": {
    "execution": {
     "iopub.execute_input": "2024-06-16T08:44:16.887859Z",
     "iopub.status.busy": "2024-06-16T08:44:16.887307Z",
     "iopub.status.idle": "2024-06-16T08:44:16.899433Z",
     "shell.execute_reply": "2024-06-16T08:44:16.897496Z"
    },
    "papermill": {
     "duration": 0.030892,
     "end_time": "2024-06-16T08:44:16.902782",
     "exception": false,
     "start_time": "2024-06-16T08:44:16.871890",
     "status": "completed"
    },
    "tags": []
   },
   "outputs": [],
   "source": [
    "# Sorting Datframe using Date index as reference.\n",
    "data.sort_index(ascending=True,inplace=True)"
   ]
  },
  {
   "cell_type": "markdown",
   "id": "bb34150b",
   "metadata": {
    "papermill": {
     "duration": 0.013316,
     "end_time": "2024-06-16T08:44:16.929822",
     "exception": false,
     "start_time": "2024-06-16T08:44:16.916506",
     "status": "completed"
    },
    "tags": []
   },
   "source": [
    "## *Preprocessing Data*"
   ]
  },
  {
   "cell_type": "code",
   "execution_count": 9,
   "id": "5509d412",
   "metadata": {
    "execution": {
     "iopub.execute_input": "2024-06-16T08:44:16.958430Z",
     "iopub.status.busy": "2024-06-16T08:44:16.958004Z",
     "iopub.status.idle": "2024-06-16T08:44:16.963778Z",
     "shell.execute_reply": "2024-06-16T08:44:16.962230Z"
    },
    "papermill": {
     "duration": 0.023166,
     "end_time": "2024-06-16T08:44:16.966488",
     "exception": false,
     "start_time": "2024-06-16T08:44:16.943322",
     "status": "completed"
    },
    "tags": []
   },
   "outputs": [],
   "source": [
    "# MinMax Scaling function is used for scaling the desired variable\n",
    "minmaxscaler=MinMaxScaler()"
   ]
  },
  {
   "cell_type": "code",
   "execution_count": 10,
   "id": "b4d2ae78",
   "metadata": {
    "execution": {
     "iopub.execute_input": "2024-06-16T08:44:16.996054Z",
     "iopub.status.busy": "2024-06-16T08:44:16.995540Z",
     "iopub.status.idle": "2024-06-16T08:44:17.013609Z",
     "shell.execute_reply": "2024-06-16T08:44:17.012078Z"
    },
    "papermill": {
     "duration": 0.035518,
     "end_time": "2024-06-16T08:44:17.016407",
     "exception": false,
     "start_time": "2024-06-16T08:44:16.980889",
     "status": "completed"
    },
    "tags": []
   },
   "outputs": [],
   "source": [
    "# 'Close' column is fit and transformed using MinMaxScaler function, so that values of 'Close' column\n",
    "# would fall within range of [0,1]\n",
    "data['Close']=minmaxscaler.fit_transform(data[['Close']])"
   ]
  },
  {
   "cell_type": "markdown",
   "id": "4ebd92bc",
   "metadata": {
    "papermill": {
     "duration": 0.012816,
     "end_time": "2024-06-16T08:44:17.042082",
     "exception": false,
     "start_time": "2024-06-16T08:44:17.029266",
     "status": "completed"
    },
    "tags": []
   },
   "source": [
    "## *Splitting Train and Test Dataset*"
   ]
  },
  {
   "cell_type": "code",
   "execution_count": 11,
   "id": "cb9b6662",
   "metadata": {
    "execution": {
     "iopub.execute_input": "2024-06-16T08:44:17.072648Z",
     "iopub.status.busy": "2024-06-16T08:44:17.072185Z",
     "iopub.status.idle": "2024-06-16T08:44:17.078609Z",
     "shell.execute_reply": "2024-06-16T08:44:17.077182Z"
    },
    "papermill": {
     "duration": 0.025562,
     "end_time": "2024-06-16T08:44:17.081223",
     "exception": false,
     "start_time": "2024-06-16T08:44:17.055661",
     "status": "completed"
    },
    "tags": []
   },
   "outputs": [],
   "source": [
    "# Defining 70% of length of datframe as 'Training Size'\n",
    "training_size=int(len(data)*0.7)"
   ]
  },
  {
   "cell_type": "code",
   "execution_count": 12,
   "id": "64857040",
   "metadata": {
    "execution": {
     "iopub.execute_input": "2024-06-16T08:44:17.109938Z",
     "iopub.status.busy": "2024-06-16T08:44:17.109405Z",
     "iopub.status.idle": "2024-06-16T08:44:17.116476Z",
     "shell.execute_reply": "2024-06-16T08:44:17.115293Z"
    },
    "papermill": {
     "duration": 0.024554,
     "end_time": "2024-06-16T08:44:17.119106",
     "exception": false,
     "start_time": "2024-06-16T08:44:17.094552",
     "status": "completed"
    },
    "tags": []
   },
   "outputs": [],
   "source": [
    "# Assigning 'Close' column values in the form of np.array using reshape\n",
    "# data['close'][:training_size].values means up to 70% of dataframe is assigned for train_data\n",
    "train_data,test_data = data['Close'][:training_size].values.reshape(-1,1), data['Close'][training_size:].values.reshape(-1,1)"
   ]
  },
  {
   "cell_type": "code",
   "execution_count": 13,
   "id": "d2ae0218",
   "metadata": {
    "execution": {
     "iopub.execute_input": "2024-06-16T08:44:17.147678Z",
     "iopub.status.busy": "2024-06-16T08:44:17.146861Z",
     "iopub.status.idle": "2024-06-16T08:44:17.155661Z",
     "shell.execute_reply": "2024-06-16T08:44:17.154358Z"
    },
    "papermill": {
     "duration": 0.026104,
     "end_time": "2024-06-16T08:44:17.158663",
     "exception": false,
     "start_time": "2024-06-16T08:44:17.132559",
     "status": "completed"
    },
    "tags": []
   },
   "outputs": [
    {
     "data": {
      "text/plain": [
       "array([0.16584967, 0.16319444, 0.1621732 , ..., 0.15012255, 0.15747549,\n",
       "       0.15277778])"
      ]
     },
     "execution_count": 13,
     "metadata": {},
     "output_type": "execute_result"
    }
   ],
   "source": [
    "# Since train_data is numpy array, we can perform operations as below\n",
    "train_data[:,0]"
   ]
  },
  {
   "cell_type": "code",
   "execution_count": 14,
   "id": "b005bb02",
   "metadata": {
    "execution": {
     "iopub.execute_input": "2024-06-16T08:44:17.188182Z",
     "iopub.status.busy": "2024-06-16T08:44:17.187723Z",
     "iopub.status.idle": "2024-06-16T08:44:17.196472Z",
     "shell.execute_reply": "2024-06-16T08:44:17.195287Z"
    },
    "papermill": {
     "duration": 0.026447,
     "end_time": "2024-06-16T08:44:17.199091",
     "exception": false,
     "start_time": "2024-06-16T08:44:17.172644",
     "status": "completed"
    },
    "tags": []
   },
   "outputs": [],
   "source": [
    "# Function for creating Sequence of Inputs for Training LSTM\n",
    "def create_sequence(data1,sequence_len):\n",
    "    datax=[] # Creating an empty list datax\n",
    "    datay=[] # Creating an empty list datay\n",
    "    for i in range(len(data1)-sequence_len): #Since first Sequnce_len is left and data is considered after that\n",
    "        x=data1[i:i+sequence_len,0] #as data1 to be input as np.array, \n",
    "                                    #thus forming np.array of shape (len(data1)-sequence_len,seq_len)\n",
    "        y=data1[i+sequence_len,0] #the value present after sequence_len is \n",
    "                                  #assigned as target value, for which LSTM will have to match.\n",
    "        datax.append(x)\n",
    "        datay.append(y)\n",
    "    return np.array(datax),np.array(datay) # Returning datax and datay"
   ]
  },
  {
   "cell_type": "code",
   "execution_count": 15,
   "id": "130a8d44",
   "metadata": {
    "execution": {
     "iopub.execute_input": "2024-06-16T08:44:17.228026Z",
     "iopub.status.busy": "2024-06-16T08:44:17.227589Z",
     "iopub.status.idle": "2024-06-16T08:44:17.234234Z",
     "shell.execute_reply": "2024-06-16T08:44:17.232401Z"
    },
    "papermill": {
     "duration": 0.024744,
     "end_time": "2024-06-16T08:44:17.237384",
     "exception": false,
     "start_time": "2024-06-16T08:44:17.212640",
     "status": "completed"
    },
    "tags": []
   },
   "outputs": [],
   "source": [
    "#specifying sequence length\n",
    "seq_len=50"
   ]
  },
  {
   "cell_type": "code",
   "execution_count": 16,
   "id": "1fcfddda",
   "metadata": {
    "execution": {
     "iopub.execute_input": "2024-06-16T08:44:17.267500Z",
     "iopub.status.busy": "2024-06-16T08:44:17.266993Z",
     "iopub.status.idle": "2024-06-16T08:44:17.280260Z",
     "shell.execute_reply": "2024-06-16T08:44:17.278892Z"
    },
    "papermill": {
     "duration": 0.032226,
     "end_time": "2024-06-16T08:44:17.283526",
     "exception": false,
     "start_time": "2024-06-16T08:44:17.251300",
     "status": "completed"
    },
    "tags": []
   },
   "outputs": [],
   "source": [
    "X_train,y_train=create_sequence(train_data,seq_len) #assigning values from create sequence to X_train and y_train\n",
    "X_test,y_test=create_sequence(test_data,seq_len) #assigning values from create sequence to X_test and y_test"
   ]
  },
  {
   "cell_type": "code",
   "execution_count": 17,
   "id": "82c446e4",
   "metadata": {
    "execution": {
     "iopub.execute_input": "2024-06-16T08:44:17.380553Z",
     "iopub.status.busy": "2024-06-16T08:44:17.378975Z",
     "iopub.status.idle": "2024-06-16T08:44:17.387366Z",
     "shell.execute_reply": "2024-06-16T08:44:17.386172Z"
    },
    "papermill": {
     "duration": 0.027676,
     "end_time": "2024-06-16T08:44:17.389963",
     "exception": false,
     "start_time": "2024-06-16T08:44:17.362287",
     "status": "completed"
    },
    "tags": []
   },
   "outputs": [
    {
     "data": {
      "text/plain": [
       "(1374, 50)"
      ]
     },
     "execution_count": 17,
     "metadata": {},
     "output_type": "execute_result"
    }
   ],
   "source": [
    "# the shape second dimension depends on sequence length you have chosen\n",
    "X_train.shape"
   ]
  },
  {
   "cell_type": "code",
   "execution_count": 18,
   "id": "57cd0577",
   "metadata": {
    "execution": {
     "iopub.execute_input": "2024-06-16T08:44:17.420002Z",
     "iopub.status.busy": "2024-06-16T08:44:17.419477Z",
     "iopub.status.idle": "2024-06-16T08:44:17.426213Z",
     "shell.execute_reply": "2024-06-16T08:44:17.424904Z"
    },
    "papermill": {
     "duration": 0.025882,
     "end_time": "2024-06-16T08:44:17.429353",
     "exception": false,
     "start_time": "2024-06-16T08:44:17.403471",
     "status": "completed"
    },
    "tags": []
   },
   "outputs": [],
   "source": [
    "#Reshaping the 2D arrays to 3D arrays to avoid error while inputting to LSTM\n",
    "X_train=X_train.reshape(X_train.shape[0],X_train.shape[1],1)\n",
    "X_test=X_test.reshape(X_test.shape[0],X_test.shape[1],1)"
   ]
  },
  {
   "cell_type": "markdown",
   "id": "ecd140e9",
   "metadata": {
    "papermill": {
     "duration": 0.01328,
     "end_time": "2024-06-16T08:44:17.456458",
     "exception": false,
     "start_time": "2024-06-16T08:44:17.443178",
     "status": "completed"
    },
    "tags": []
   },
   "source": [
    "## *Model Building*"
   ]
  },
  {
   "cell_type": "code",
   "execution_count": 19,
   "id": "2be4572c",
   "metadata": {
    "execution": {
     "iopub.execute_input": "2024-06-16T08:44:17.486728Z",
     "iopub.status.busy": "2024-06-16T08:44:17.485697Z",
     "iopub.status.idle": "2024-06-16T08:44:17.495562Z",
     "shell.execute_reply": "2024-06-16T08:44:17.494060Z"
    },
    "papermill": {
     "duration": 0.029173,
     "end_time": "2024-06-16T08:44:17.499607",
     "exception": false,
     "start_time": "2024-06-16T08:44:17.470434",
     "status": "completed"
    },
    "tags": []
   },
   "outputs": [],
   "source": [
    "from tensorflow.keras.layers import LSTM, Dense\n",
    "from tensorflow.keras.models import Sequential"
   ]
  },
  {
   "cell_type": "code",
   "execution_count": 20,
   "id": "255a3a0a",
   "metadata": {
    "execution": {
     "iopub.execute_input": "2024-06-16T08:44:17.530460Z",
     "iopub.status.busy": "2024-06-16T08:44:17.530048Z",
     "iopub.status.idle": "2024-06-16T08:44:17.630779Z",
     "shell.execute_reply": "2024-06-16T08:44:17.629558Z"
    },
    "papermill": {
     "duration": 0.119092,
     "end_time": "2024-06-16T08:44:17.634000",
     "exception": false,
     "start_time": "2024-06-16T08:44:17.514908",
     "status": "completed"
    },
    "tags": []
   },
   "outputs": [],
   "source": [
    "model_close=Sequential()"
   ]
  },
  {
   "cell_type": "code",
   "execution_count": 21,
   "id": "17e7ef64",
   "metadata": {
    "execution": {
     "iopub.execute_input": "2024-06-16T08:44:17.664352Z",
     "iopub.status.busy": "2024-06-16T08:44:17.663860Z",
     "iopub.status.idle": "2024-06-16T08:44:18.755106Z",
     "shell.execute_reply": "2024-06-16T08:44:18.753922Z"
    },
    "papermill": {
     "duration": 1.110768,
     "end_time": "2024-06-16T08:44:18.758411",
     "exception": false,
     "start_time": "2024-06-16T08:44:17.647643",
     "status": "completed"
    },
    "tags": []
   },
   "outputs": [],
   "source": [
    "model_close.add(LSTM(units=50,return_sequences=True,input_shape=(seq_len,1)))\n",
    "model_close.add(LSTM(units=50,return_sequences=True))\n",
    "model_close.add(LSTM(units=50))\n",
    "model_close.add(Dense(1))"
   ]
  },
  {
   "cell_type": "code",
   "execution_count": 22,
   "id": "eebb869e",
   "metadata": {
    "execution": {
     "iopub.execute_input": "2024-06-16T08:44:18.789630Z",
     "iopub.status.busy": "2024-06-16T08:44:18.789150Z",
     "iopub.status.idle": "2024-06-16T08:44:18.817961Z",
     "shell.execute_reply": "2024-06-16T08:44:18.816210Z"
    },
    "papermill": {
     "duration": 0.049404,
     "end_time": "2024-06-16T08:44:18.822122",
     "exception": false,
     "start_time": "2024-06-16T08:44:18.772718",
     "status": "completed"
    },
    "tags": []
   },
   "outputs": [
    {
     "name": "stdout",
     "output_type": "stream",
     "text": [
      "Model: \"sequential\"\n",
      "_________________________________________________________________\n",
      " Layer (type)                Output Shape              Param #   \n",
      "=================================================================\n",
      " lstm (LSTM)                 (None, 50, 50)            10400     \n",
      "                                                                 \n",
      " lstm_1 (LSTM)               (None, 50, 50)            20200     \n",
      "                                                                 \n",
      " lstm_2 (LSTM)               (None, 50)                20200     \n",
      "                                                                 \n",
      " dense (Dense)               (None, 1)                 51        \n",
      "                                                                 \n",
      "=================================================================\n",
      "Total params: 50,851\n",
      "Trainable params: 50,851\n",
      "Non-trainable params: 0\n",
      "_________________________________________________________________\n"
     ]
    }
   ],
   "source": [
    "model_close.summary()"
   ]
  },
  {
   "cell_type": "code",
   "execution_count": 23,
   "id": "f9c53a0f",
   "metadata": {
    "execution": {
     "iopub.execute_input": "2024-06-16T08:44:18.855599Z",
     "iopub.status.busy": "2024-06-16T08:44:18.855130Z",
     "iopub.status.idle": "2024-06-16T08:44:18.887382Z",
     "shell.execute_reply": "2024-06-16T08:44:18.886086Z"
    },
    "papermill": {
     "duration": 0.053425,
     "end_time": "2024-06-16T08:44:18.890709",
     "exception": false,
     "start_time": "2024-06-16T08:44:18.837284",
     "status": "completed"
    },
    "tags": []
   },
   "outputs": [],
   "source": [
    "# Since this is continuous regression like problem, the loss or performance is based on 'mean_squared_error'\n",
    "model_close.compile(optimizer='Adam',loss='mean_squared_error')"
   ]
  },
  {
   "cell_type": "code",
   "execution_count": 24,
   "id": "6f3428f4",
   "metadata": {
    "execution": {
     "iopub.execute_input": "2024-06-16T08:44:18.926430Z",
     "iopub.status.busy": "2024-06-16T08:44:18.926041Z",
     "iopub.status.idle": "2024-06-16T08:48:11.383145Z",
     "shell.execute_reply": "2024-06-16T08:48:11.381245Z"
    },
    "papermill": {
     "duration": 232.480415,
     "end_time": "2024-06-16T08:48:11.386557",
     "exception": false,
     "start_time": "2024-06-16T08:44:18.906142",
     "status": "completed"
    },
    "tags": []
   },
   "outputs": [
    {
     "name": "stdout",
     "output_type": "stream",
     "text": [
      "Epoch 1/50\n",
      "43/43 [==============================] - 13s 149ms/step - loss: 0.0042 - val_loss: 0.0060\n",
      "Epoch 2/50\n",
      "43/43 [==============================] - 4s 101ms/step - loss: 8.8087e-04 - val_loss: 0.0052\n",
      "Epoch 3/50\n",
      "43/43 [==============================] - 4s 101ms/step - loss: 7.8828e-04 - val_loss: 0.0041\n",
      "Epoch 4/50\n",
      "43/43 [==============================] - 4s 102ms/step - loss: 7.2981e-04 - val_loss: 0.0037\n",
      "Epoch 5/50\n",
      "43/43 [==============================] - 4s 102ms/step - loss: 7.5133e-04 - val_loss: 0.0020\n",
      "Epoch 6/50\n",
      "43/43 [==============================] - 4s 105ms/step - loss: 8.0293e-04 - val_loss: 0.0021\n",
      "Epoch 7/50\n",
      "43/43 [==============================] - 4s 102ms/step - loss: 6.3477e-04 - val_loss: 0.0027\n",
      "Epoch 8/50\n",
      "43/43 [==============================] - 5s 107ms/step - loss: 5.6626e-04 - val_loss: 0.0034\n",
      "Epoch 9/50\n",
      "43/43 [==============================] - 4s 103ms/step - loss: 5.4795e-04 - val_loss: 0.0032\n",
      "Epoch 10/50\n",
      "43/43 [==============================] - 4s 103ms/step - loss: 5.2449e-04 - val_loss: 0.0031\n",
      "Epoch 11/50\n",
      "43/43 [==============================] - 4s 103ms/step - loss: 5.2619e-04 - val_loss: 0.0040\n",
      "Epoch 12/50\n",
      "43/43 [==============================] - 4s 101ms/step - loss: 4.7851e-04 - val_loss: 0.0037\n",
      "Epoch 13/50\n",
      "43/43 [==============================] - 4s 102ms/step - loss: 4.1635e-04 - val_loss: 0.0043\n",
      "Epoch 14/50\n",
      "43/43 [==============================] - 4s 100ms/step - loss: 4.0873e-04 - val_loss: 0.0046\n",
      "Epoch 15/50\n",
      "43/43 [==============================] - 4s 105ms/step - loss: 3.7661e-04 - val_loss: 0.0034\n",
      "Epoch 16/50\n",
      "43/43 [==============================] - 4s 101ms/step - loss: 3.6040e-04 - val_loss: 0.0025\n",
      "Epoch 17/50\n",
      "43/43 [==============================] - 4s 101ms/step - loss: 3.5567e-04 - val_loss: 0.0017\n",
      "Epoch 18/50\n",
      "43/43 [==============================] - 4s 103ms/step - loss: 3.3001e-04 - val_loss: 0.0026\n",
      "Epoch 19/50\n",
      "43/43 [==============================] - 4s 101ms/step - loss: 3.1061e-04 - val_loss: 0.0019\n",
      "Epoch 20/50\n",
      "43/43 [==============================] - 4s 103ms/step - loss: 3.0800e-04 - val_loss: 0.0020\n",
      "Epoch 21/50\n",
      "43/43 [==============================] - 4s 102ms/step - loss: 2.9492e-04 - val_loss: 9.6865e-04\n",
      "Epoch 22/50\n",
      "43/43 [==============================] - 5s 107ms/step - loss: 2.6870e-04 - val_loss: 0.0014\n",
      "Epoch 23/50\n",
      "43/43 [==============================] - 4s 102ms/step - loss: 2.5517e-04 - val_loss: 0.0021\n",
      "Epoch 24/50\n",
      "43/43 [==============================] - 4s 103ms/step - loss: 2.4023e-04 - val_loss: 0.0013\n",
      "Epoch 25/50\n",
      "43/43 [==============================] - 4s 102ms/step - loss: 2.2812e-04 - val_loss: 0.0014\n",
      "Epoch 26/50\n",
      "43/43 [==============================] - 4s 102ms/step - loss: 2.6207e-04 - val_loss: 0.0023\n",
      "Epoch 27/50\n",
      "43/43 [==============================] - 4s 100ms/step - loss: 2.2071e-04 - val_loss: 6.7349e-04\n",
      "Epoch 28/50\n",
      "43/43 [==============================] - 4s 100ms/step - loss: 2.0467e-04 - val_loss: 5.3475e-04\n",
      "Epoch 29/50\n",
      "43/43 [==============================] - 4s 103ms/step - loss: 2.4665e-04 - val_loss: 0.0016\n",
      "Epoch 30/50\n",
      "43/43 [==============================] - 5s 106ms/step - loss: 1.8854e-04 - val_loss: 7.8980e-04\n",
      "Epoch 31/50\n",
      "43/43 [==============================] - 4s 105ms/step - loss: 1.7692e-04 - val_loss: 7.3329e-04\n",
      "Epoch 32/50\n",
      "43/43 [==============================] - 4s 103ms/step - loss: 1.7761e-04 - val_loss: 0.0011\n",
      "Epoch 33/50\n",
      "43/43 [==============================] - 5s 105ms/step - loss: 1.6189e-04 - val_loss: 7.5190e-04\n",
      "Epoch 34/50\n",
      "43/43 [==============================] - 4s 102ms/step - loss: 1.6130e-04 - val_loss: 6.0569e-04\n",
      "Epoch 35/50\n",
      "43/43 [==============================] - 4s 102ms/step - loss: 1.5624e-04 - val_loss: 9.0817e-04\n",
      "Epoch 36/50\n",
      "43/43 [==============================] - 4s 104ms/step - loss: 1.7234e-04 - val_loss: 6.6776e-04\n",
      "Epoch 37/50\n",
      "43/43 [==============================] - 5s 113ms/step - loss: 1.6965e-04 - val_loss: 7.3425e-04\n",
      "Epoch 38/50\n",
      "43/43 [==============================] - 5s 113ms/step - loss: 1.4214e-04 - val_loss: 5.0971e-04\n",
      "Epoch 39/50\n",
      "43/43 [==============================] - 4s 105ms/step - loss: 1.5746e-04 - val_loss: 4.7555e-04\n",
      "Epoch 40/50\n",
      "43/43 [==============================] - 5s 108ms/step - loss: 1.4135e-04 - val_loss: 6.3227e-04\n",
      "Epoch 41/50\n",
      "43/43 [==============================] - 4s 105ms/step - loss: 1.4746e-04 - val_loss: 7.5683e-04\n",
      "Epoch 42/50\n",
      "43/43 [==============================] - 4s 104ms/step - loss: 1.3340e-04 - val_loss: 6.1686e-04\n",
      "Epoch 43/50\n",
      "43/43 [==============================] - 5s 105ms/step - loss: 1.3219e-04 - val_loss: 8.7285e-04\n",
      "Epoch 44/50\n",
      "43/43 [==============================] - 5s 108ms/step - loss: 1.2775e-04 - val_loss: 8.2782e-04\n",
      "Epoch 45/50\n",
      "43/43 [==============================] - 4s 103ms/step - loss: 1.4300e-04 - val_loss: 7.9567e-04\n",
      "Epoch 46/50\n",
      "43/43 [==============================] - 4s 103ms/step - loss: 1.6815e-04 - val_loss: 0.0013\n",
      "Epoch 47/50\n",
      "43/43 [==============================] - 5s 106ms/step - loss: 1.4400e-04 - val_loss: 0.0011\n",
      "Epoch 48/50\n",
      "43/43 [==============================] - 5s 112ms/step - loss: 1.2938e-04 - val_loss: 9.4741e-04\n",
      "Epoch 49/50\n",
      "43/43 [==============================] - 5s 117ms/step - loss: 1.4109e-04 - val_loss: 0.0012\n",
      "Epoch 50/50\n",
      "43/43 [==============================] - 5s 114ms/step - loss: 1.2887e-04 - val_loss: 0.0012\n"
     ]
    },
    {
     "data": {
      "text/plain": [
       "<keras.callbacks.History at 0x7950dd62dd80>"
      ]
     },
     "execution_count": 24,
     "metadata": {},
     "output_type": "execute_result"
    }
   ],
   "source": [
    "model_close.fit(X_train,y_train,validation_data=(X_test,y_test),epochs=50,batch_size=32,verbose=1)"
   ]
  },
  {
   "cell_type": "code",
   "execution_count": 25,
   "id": "16fa5a4e",
   "metadata": {
    "execution": {
     "iopub.execute_input": "2024-06-16T08:48:11.882445Z",
     "iopub.status.busy": "2024-06-16T08:48:11.881896Z",
     "iopub.status.idle": "2024-06-16T08:48:12.536444Z",
     "shell.execute_reply": "2024-06-16T08:48:12.534638Z"
    },
    "papermill": {
     "duration": 0.911919,
     "end_time": "2024-06-16T08:48:12.539764",
     "exception": false,
     "start_time": "2024-06-16T08:48:11.627845",
     "status": "completed"
    },
    "tags": []
   },
   "outputs": [
    {
     "data": {
      "text/plain": [
       "Text(0.5, 1.0, 'Original Plot of Closing Price of Stock')"
      ]
     },
     "execution_count": 25,
     "metadata": {},
     "output_type": "execute_result"
    },
    {
     "data": {
      "image/png": "[encoded data removed]",
      "text/plain": [
       "<Figure size 640x480 with 1 Axes>"
      ]
     },
     "metadata": {},
     "output_type": "display_data"
    }
   ],
   "source": [
    "plt.plot(data.index,data['Close'])\n",
    "plt.xlabel('Time')\n",
    "plt.ylabel('Closing Price of Stock')\n",
    "plt.title('Original Plot of Closing Price of Stock')"
   ]
  },
  {
   "cell_type": "code",
   "execution_count": 26,
   "id": "1f21ed83",
   "metadata": {
    "execution": {
     "iopub.execute_input": "2024-06-16T08:48:13.124622Z",
     "iopub.status.busy": "2024-06-16T08:48:13.124188Z",
     "iopub.status.idle": "2024-06-16T08:48:13.137569Z",
     "shell.execute_reply": "2024-06-16T08:48:13.135021Z"
    },
    "papermill": {
     "duration": 0.328175,
     "end_time": "2024-06-16T08:48:13.141162",
     "exception": false,
     "start_time": "2024-06-16T08:48:12.812987",
     "status": "completed"
    },
    "tags": []
   },
   "outputs": [
    {
     "data": {
      "text/plain": [
       "(2035, 1374, 561, 561)"
      ]
     },
     "execution_count": 26,
     "metadata": {},
     "output_type": "execute_result"
    }
   ],
   "source": [
    "len(data),len(X_train),len(X_test),len(data.index[training_size+seq_len:])"
   ]
  },
  {
   "cell_type": "markdown",
   "id": "53a14c58",
   "metadata": {
    "papermill": {
     "duration": 0.246665,
     "end_time": "2024-06-16T08:48:13.631455",
     "exception": false,
     "start_time": "2024-06-16T08:48:13.384790",
     "status": "completed"
    },
    "tags": []
   },
   "source": [
    "## *Performance of Model*"
   ]
  },
  {
   "cell_type": "code",
   "execution_count": 27,
   "id": "b4f1e015",
   "metadata": {
    "execution": {
     "iopub.execute_input": "2024-06-16T08:48:14.109010Z",
     "iopub.status.busy": "2024-06-16T08:48:14.108583Z",
     "iopub.status.idle": "2024-06-16T08:48:16.436498Z",
     "shell.execute_reply": "2024-06-16T08:48:16.434278Z"
    },
    "papermill": {
     "duration": 2.571348,
     "end_time": "2024-06-16T08:48:16.440522",
     "exception": false,
     "start_time": "2024-06-16T08:48:13.869174",
     "status": "completed"
    },
    "tags": []
   },
   "outputs": [
    {
     "name": "stdout",
     "output_type": "stream",
     "text": [
      "18/18 [==============================] - 2s 37ms/step\n"
     ]
    }
   ],
   "source": [
    "y_test_pred=minmaxscaler.inverse_transform(model_close.predict(X_test))"
   ]
  },
  {
   "cell_type": "code",
   "execution_count": 28,
   "id": "bd952333",
   "metadata": {
    "execution": {
     "iopub.execute_input": "2024-06-16T08:48:16.926200Z",
     "iopub.status.busy": "2024-06-16T08:48:16.925660Z",
     "iopub.status.idle": "2024-06-16T08:48:16.937070Z",
     "shell.execute_reply": "2024-06-16T08:48:16.935478Z"
    },
    "papermill": {
     "duration": 0.250174,
     "end_time": "2024-06-16T08:48:16.940019",
     "exception": false,
     "start_time": "2024-06-16T08:48:16.689845",
     "status": "completed"
    },
    "tags": []
   },
   "outputs": [
    {
     "name": "stdout",
     "output_type": "stream",
     "text": [
      "The Mean Squared Error Between Test Value and Predicted Value is:  41235.44504294261\n",
      "The Root Mean Squared Error Between Test Value and Predicted Value is:  203.0651251272424\n"
     ]
    }
   ],
   "source": [
    "from sklearn.metrics import mean_squared_error\n",
    "print(\"The Mean Squared Error Between Test Value and Predicted Value is: \",mean_squared_error(y_test,y_test_pred))\n",
    "print(\"The Root Mean Squared Error Between Test Value and Predicted Value is: \",math.sqrt(mean_squared_error(y_test,y_test_pred)))"
   ]
  },
  {
   "cell_type": "code",
   "execution_count": 29,
   "id": "72d4d639",
   "metadata": {
    "execution": {
     "iopub.execute_input": "2024-06-16T08:48:17.429405Z",
     "iopub.status.busy": "2024-06-16T08:48:17.428953Z",
     "iopub.status.idle": "2024-06-16T08:48:20.414500Z",
     "shell.execute_reply": "2024-06-16T08:48:20.412781Z"
    },
    "papermill": {
     "duration": 3.233559,
     "end_time": "2024-06-16T08:48:20.417418",
     "exception": false,
     "start_time": "2024-06-16T08:48:17.183859",
     "status": "completed"
    },
    "tags": []
   },
   "outputs": [
    {
     "name": "stdout",
     "output_type": "stream",
     "text": [
      "18/18 [==============================] - 1s 37ms/step\n",
      "43/43 [==============================] - 2s 35ms/step\n"
     ]
    },
    {
     "data": {
      "image/png": "[encoded data removed]",
      "text/plain": [
       "<Figure size 1200x600 with 1 Axes>"
      ]
     },
     "metadata": {},
     "output_type": "display_data"
    }
   ],
   "source": [
    "import matplotlib.pyplot as plt  # Correcting import statement\n",
    "\n",
    "# Assuming data, X_train, X_test, model_close, minmaxscaler, and training_size are already defined\n",
    "\n",
    "# Plotting the original time series, predicted time series, and training time series\n",
    "plt.figure(figsize=(12, 6))\n",
    "plt.plot(data.index, minmaxscaler.inverse_transform(data[['Close']]), label='Original Time Series', color='blue')\n",
    "plt.plot(data.index[training_size + seq_len:], minmaxscaler.inverse_transform(model_close.predict(X_test)), label='Predicted Time Series', color='green')\n",
    "plt.plot(data.index[:training_size - seq_len], minmaxscaler.inverse_transform(model_close.predict(X_train)), label='Training Time Series with {} Sequences Lag'.format(seq_len), color='red')\n",
    "\n",
    "plt.xlabel('Time', fontsize=12)\n",
    "plt.ylabel('Stock Closing Price', fontsize=12)\n",
    "plt.title('Stock Market Closing Price Prediction Using Stacked LSTM', fontsize=16, weight='bold', ha='center')  # Adjusting title alignment\n",
    "plt.legend(loc='upper left', fontsize=12)\n",
    "\n",
    "# Adjusting layout to center the title and legends\n",
    "plt.tight_layout()\n",
    "plt.grid()\n",
    "plt.show()\n"
   ]
  },
  {
   "cell_type": "markdown",
   "id": "2e535ec8",
   "metadata": {
    "papermill": {
     "duration": 0.248049,
     "end_time": "2024-06-16T08:48:20.998441",
     "exception": false,
     "start_time": "2024-06-16T08:48:20.750392",
     "status": "completed"
    },
    "tags": []
   },
   "source": [
    "## *Conclusion*"
   ]
  },
  {
   "cell_type": "markdown",
   "id": "62d2afcf",
   "metadata": {
    "papermill": {
     "duration": 0.238546,
     "end_time": "2024-06-16T08:48:21.478459",
     "exception": false,
     "start_time": "2024-06-16T08:48:21.239913",
     "status": "completed"
    },
    "tags": []
   },
   "source": [
    "*In conclusion, stock market prediction and forecasting using LSTM models offer significant insights and potential benefits in the investment landscape. By understanding and addressing complex stock price patterns and trends, the LSTM model can provide valuable predictions to guide investment decisions and risk management strategies. While the accuracy of LSTM models has proven promising, challenges remain in capturing long-term dependencies and non-linear relationships in stock price movements. Future research and improvements in model architecture, training methods, and data preprocessing will further enhance the effectiveness and reliability of these predictive models.*"
   ]
  }
 ],
 "metadata": {
  "kaggle": {
   "accelerator": "none",
   "dataSources": [
    {
     "datasetId": 2722338,
     "sourceId": 4706629,
     "sourceType": "datasetVersion"
    }
   ],
   "dockerImageVersionId": 30558,
   "isGpuEnabled": false,
   "isInternetEnabled": true,
   "language": "python",
   "sourceType": "notebook"
  },
  "kernelspec": {
   "display_name": "Python 3",
   "language": "python",
   "name": "python3"
  },
  "language_info": {
   "codemirror_mode": {
    "name": "ipython",
    "version": 3
   },
   "file_extension": ".py",
   "mimetype": "text/x-python",
   "name": "python",
   "nbconvert_exporter": "python",
   "pygments_lexer": "ipython3",
   "version": "3.10.12"
  },
  "papermill": {
   "default_parameters": {},
   "duration": 267.559564,
   "end_time": "2024-06-16T08:48:24.717923",
   "environment_variables": {},
   "exception": null,
   "input_path": "__notebook__.ipynb",
   "output_path": "__notebook__.ipynb",
   "parameters": {},
   "start_time": "2024-06-16T08:43:57.158359",
   "version": "2.4.0"
  }
 },
 "nbformat": 4,
 "nbformat_minor": 5
}
